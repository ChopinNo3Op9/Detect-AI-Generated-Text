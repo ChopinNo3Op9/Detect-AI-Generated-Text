{
 "cells": [
  {
   "cell_type": "code",
   "execution_count": 16,
   "metadata": {},
   "outputs": [],
   "source": [
    "import torch\n",
    "from transformers import BertTokenizer, BertForSequenceClassification\n",
    "from sklearn.metrics import accuracy_score"
   ]
  },
  {
   "cell_type": "code",
   "execution_count": 17,
   "metadata": {},
   "outputs": [],
   "source": [
    "train_data = [\n",
    "    (\"I really enjoyed this movie!\", 1),\n",
    "    (\"The plot was confusing.\", 0),\n",
    "    (\"The acting was superb!\", 1),\n",
    "    (\"The movie kept me on the edge of my seat.\", 1),\n",
    "    (\"The ending was predictable.\", 0),\n",
    "    (\"The characters were well-developed.\", 1),\n",
    "    (\"I wouldn't recommend this film.\", 0),\n",
    "    (\"The special effects were amazing.\", 1),\n",
    "    (\"I loved the twists and turns in the story.\", 1),\n",
    "    (\"The cinematography was breathtaking.\", 1),\n",
    "    (\"The plot lacked originality.\", 0),\n",
    "    (\"The movie failed to capture my interest.\", 0),\n",
    "    (\"A masterpiece of storytelling.\", 1),\n",
    "    (\"The film had a lackluster ending.\", 0),\n",
    "    (\"I was on the edge of my seat throughout.\", 1),\n",
    "    (\"The script was poorly written.\", 0),\n",
    "]\n",
    "\n",
    "test_data = [\n",
    "    (\"Amazing film, highly recommend!\", 1),\n",
    "    (\"Waste of time, terrible acting.\", 0),\n",
    "    (\"One of the best movies I've seen.\", 1),\n",
    "    (\"The script was weak.\", 0),\n",
    "    (\"Incredible cinematography!\", 1),\n",
    "    (\"The movie left me disappointed.\", 0),\n",
    "    (\"A must-watch for all movie lovers.\", 1),\n",
    "    (\"The plot lacked depth.\", 0),\n",
    "    (\"I couldn't take my eyes off the screen.\", 1),\n",
    "    (\"The performances were lackluster.\", 0),\n",
    "    (\"A cinematic experience like no other.\", 1),\n",
    "    (\"The story failed to engage me.\", 0),\n",
    "    (\"A film that will stay with you long after.\", 1),\n",
    "    (\"The movie was forgettable.\", 0),\n",
    "    (\"I was moved by the emotional scenes.\", 1),\n",
    "    (\"The dialogue felt forced.\", 0),\n",
    "]\n"
   ]
  },
  {
   "cell_type": "code",
   "execution_count": 18,
   "metadata": {},
   "outputs": [
    {
     "name": "stderr",
     "output_type": "stream",
     "text": [
      "Some weights of the model checkpoint at bert-base-uncased were not used when initializing BertForSequenceClassification: ['cls.predictions.transform.dense.weight', 'cls.seq_relationship.bias', 'cls.predictions.decoder.weight', 'cls.predictions.transform.dense.bias', 'cls.predictions.transform.LayerNorm.bias', 'cls.predictions.bias', 'cls.seq_relationship.weight', 'cls.predictions.transform.LayerNorm.weight']\n",
      "- This IS expected if you are initializing BertForSequenceClassification from the checkpoint of a model trained on another task or with another architecture (e.g. initializing a BertForSequenceClassification model from a BertForPreTraining model).\n",
      "- This IS NOT expected if you are initializing BertForSequenceClassification from the checkpoint of a model that you expect to be exactly identical (initializing a BertForSequenceClassification model from a BertForSequenceClassification model).\n",
      "Some weights of BertForSequenceClassification were not initialized from the model checkpoint at bert-base-uncased and are newly initialized: ['classifier.weight', 'classifier.bias']\n",
      "You should probably TRAIN this model on a down-stream task to be able to use it for predictions and inference.\n",
      "C:\\Users\\Steven\\AppData\\Local\\Temp\\ipykernel_70504\\52668149.py:13: UserWarning: To copy construct from a tensor, it is recommended to use sourceTensor.clone().detach() or sourceTensor.clone().detach().requires_grad_(True), rather than torch.tensor(sourceTensor).\n",
      "  train_dataset = torch.utils.data.TensorDataset(*[torch.tensor(t) for t in preprocess_data(*zip(*train_data))])\n",
      "C:\\Users\\Steven\\AppData\\Local\\Temp\\ipykernel_70504\\52668149.py:14: UserWarning: To copy construct from a tensor, it is recommended to use sourceTensor.clone().detach() or sourceTensor.clone().detach().requires_grad_(True), rather than torch.tensor(sourceTensor).\n",
      "  test_dataset = torch.utils.data.TensorDataset(*[torch.tensor(t) for t in preprocess_data(*zip(*test_data))])\n"
     ]
    },
    {
     "name": "stdout",
     "output_type": "stream",
     "text": [
      "Epoch 1/3, Validation Accuracy: 0.8750\n",
      "Epoch 2/3, Validation Accuracy: 0.8750\n",
      "Epoch 3/3, Validation Accuracy: 0.5000\n"
     ]
    }
   ],
   "source": [
    "# Load BERT tokenizer and model\n",
    "tokenizer = BertTokenizer.from_pretrained(\"bert-base-uncased\")\n",
    "model = BertForSequenceClassification.from_pretrained(\"bert-base-uncased\", num_labels=2)\n",
    "\n",
    "# Tokenize and preprocess the data\n",
    "def preprocess_data(texts, labels):\n",
    "    inputs = tokenizer(texts, padding=True, truncation=True, max_length=128, return_tensors=\"pt\")\n",
    "    input_ids = inputs[\"input_ids\"].squeeze()\n",
    "    attention_mask = inputs[\"attention_mask\"].squeeze()\n",
    "    return input_ids, attention_mask, labels\n",
    "\n",
    "# Preprocess the training and testing data\n",
    "train_dataset = torch.utils.data.TensorDataset(*[torch.tensor(t) for t in preprocess_data(*zip(*train_data))])\n",
    "test_dataset = torch.utils.data.TensorDataset(*[torch.tensor(t) for t in preprocess_data(*zip(*test_data))])\n",
    "\n",
    "# Compile and fit the model\n",
    "optimizer = torch.optim.AdamW(model.parameters(), lr=2e-5)\n",
    "criterion = torch.nn.CrossEntropyLoss()\n",
    "\n",
    "epochs = 3\n",
    "for epoch in range(epochs):\n",
    "    model.train()\n",
    "    for input_ids, attention_mask, labels in train_dataset:\n",
    "        optimizer.zero_grad()\n",
    "        outputs = model(input_ids=input_ids.unsqueeze(0), attention_mask=attention_mask.unsqueeze(0), labels=labels.unsqueeze(0))\n",
    "        loss = outputs.loss\n",
    "        loss.backward()\n",
    "        optimizer.step()\n",
    "\n",
    "    # Validation\n",
    "    model.eval()\n",
    "    val_labels = []\n",
    "    val_preds = []\n",
    "    with torch.no_grad():\n",
    "        for input_ids, attention_mask, labels in test_dataset:\n",
    "            outputs = model(input_ids=input_ids.unsqueeze(0), attention_mask=attention_mask.unsqueeze(0))\n",
    "            logits = outputs.logits\n",
    "            preds = torch.argmax(logits, dim=1).item()  # Use item() for scalar tensor\n",
    "            val_labels.append(labels.item())  # Use item() for scalar tensor\n",
    "            val_preds.append(preds)\n",
    "\n",
    "\n",
    "    val_accuracy = accuracy_score(val_labels, val_preds)\n",
    "    print(f\"Epoch {epoch + 1}/{epochs}, Validation Accuracy: {val_accuracy:.4f}\")"
   ]
  },
  {
   "cell_type": "code",
   "execution_count": 19,
   "metadata": {},
   "outputs": [
    {
     "name": "stdout",
     "output_type": "stream",
     "text": [
      "Predicted Labels: [1 0 1 0 0 0 0 0 0 0]\n"
     ]
    }
   ],
   "source": [
    "new_examples = [\n",
    "    \"What a fantastic movie!\",\n",
    "    \"A disappointing experience.\",\n",
    "    \"Absolutely loved it!\",\n",
    "    \"Couldn't stand it.\",\n",
    "    \"Brilliant storytelling.\",\n",
    "    \"Complete waste of time.\",\n",
    "    \"Captivating from start to finish.\",\n",
    "    \"Regret watching it.\",\n",
    "    \"Highly recommend to everyone.\",\n",
    "    \"Not worth the hype.\",\n",
    "]\n",
    "\n",
    "inputs = tokenizer(new_examples, padding=True, truncation=True, max_length=128, return_tensors=\"pt\")\n",
    "\n",
    "input_ids = inputs[\"input_ids\"].squeeze()\n",
    "attention_mask = inputs[\"attention_mask\"].squeeze()\n",
    "\n",
    "# Ensure input_ids and attention_mask have batch dimension\n",
    "if len(input_ids.shape) == 1:\n",
    "    input_ids = input_ids.unsqueeze(0)\n",
    "if len(attention_mask.shape) == 1:\n",
    "    attention_mask = attention_mask.unsqueeze(0)\n",
    "\n",
    "outputs = model(input_ids=input_ids, attention_mask=attention_mask)\n",
    "predicted_labels = torch.argmax(outputs.logits, dim=1).numpy()\n",
    "\n",
    "print(\"Predicted Labels:\", predicted_labels)\n"
   ]
  }
 ],
 "metadata": {
  "kernelspec": {
   "display_name": "Python 3",
   "language": "python",
   "name": "python3"
  },
  "language_info": {
   "codemirror_mode": {
    "name": "ipython",
    "version": 3
   },
   "file_extension": ".py",
   "mimetype": "text/x-python",
   "name": "python",
   "nbconvert_exporter": "python",
   "pygments_lexer": "ipython3",
   "version": "3.10.11"
  }
 },
 "nbformat": 4,
 "nbformat_minor": 2
}
